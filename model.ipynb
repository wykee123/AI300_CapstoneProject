{
 "cells": [
  {
   "cell_type": "markdown",
   "metadata": {},
   "source": [
    "1. import libraries"
   ]
  },
  {
   "cell_type": "code",
   "execution_count": 1,
   "metadata": {},
   "outputs": [],
   "source": [
    "import pandas as pd\n",
    "from sqlalchemy import create_engine\n",
    "import numpy as np\n",
    "from sklearn.model_selection import train_test_split\n",
    "from xgboost import XGBClassifier\n",
    "from catboost import CatBoostClassifier\n",
    "from sklearn.metrics import accuracy_score, classification_report\n",
    "from sklearn.preprocessing import LabelEncoder\n",
    "from sklearn.metrics import roc_auc_score\n",
    "from sklearn.model_selection import GridSearchCV\n",
    "from tqdm import tqdm\n",
    "import plotly.express as px\n",
    "import pickle\n",
    "from dotenv import load_dotenv\n",
    "import os"
   ]
  },
  {
   "cell_type": "code",
   "execution_count": 2,
   "metadata": {},
   "outputs": [],
   "source": [
    "pd.set_option('display.max_columns', None)"
   ]
  },
  {
   "cell_type": "markdown",
   "metadata": {},
   "source": [
    "2. import data from database by sql "
   ]
  },
  {
   "cell_type": "code",
   "execution_count": 3,
   "metadata": {},
   "outputs": [],
   "source": [
    "load_dotenv()\n",
    "\n",
    "ENDPOINT = os.getenv('ENDPOINT')\n",
    "PORT = os.getenv('PORT')\n",
    "USERNAME = os.getenv('USERNAME')\n",
    "PASSWORD = os.getenv('PASSWORD')\n",
    "DBNAME = os.getenv('DBNAME')"
   ]
  },
  {
   "cell_type": "code",
   "execution_count": 4,
   "metadata": {},
   "outputs": [
    {
     "data": {
      "text/html": [
       "<div>\n",
       "<style scoped>\n",
       "    .dataframe tbody tr th:only-of-type {\n",
       "        vertical-align: middle;\n",
       "    }\n",
       "\n",
       "    .dataframe tbody tr th {\n",
       "        vertical-align: top;\n",
       "    }\n",
       "\n",
       "    .dataframe thead th {\n",
       "        text-align: right;\n",
       "    }\n",
       "</style>\n",
       "<table border=\"1\" class=\"dataframe\">\n",
       "  <thead>\n",
       "    <tr style=\"text-align: right;\">\n",
       "      <th></th>\n",
       "      <th>customer_id</th>\n",
       "      <th>zip_code</th>\n",
       "      <th>account_id</th>\n",
       "      <th>tenure_months</th>\n",
       "      <th>num_referrals</th>\n",
       "      <th>has_internet_service</th>\n",
       "      <th>internet_type</th>\n",
       "      <th>has_unlimited_data</th>\n",
       "      <th>has_phone_service</th>\n",
       "      <th>has_multiple_lines</th>\n",
       "      <th>has_premium_tech_support</th>\n",
       "      <th>has_online_security</th>\n",
       "      <th>has_online_backup</th>\n",
       "      <th>has_device_protection</th>\n",
       "      <th>contract_type</th>\n",
       "      <th>paperless_billing</th>\n",
       "      <th>payment_method</th>\n",
       "      <th>avg_long_distance_fee_monthly</th>\n",
       "      <th>total_long_distance_fee</th>\n",
       "      <th>avg_gb_download_monthly</th>\n",
       "      <th>stream_tv</th>\n",
       "      <th>stream_movie</th>\n",
       "      <th>stream_music</th>\n",
       "      <th>total_monthly_fee</th>\n",
       "      <th>total_charges_quarter</th>\n",
       "      <th>total_refunds</th>\n",
       "      <th>gender</th>\n",
       "      <th>age</th>\n",
       "      <th>senior_citizen</th>\n",
       "      <th>married</th>\n",
       "      <th>num_dependents</th>\n",
       "      <th>area_id</th>\n",
       "      <th>city</th>\n",
       "      <th>latitutde</th>\n",
       "      <th>longitude</th>\n",
       "      <th>population</th>\n",
       "      <th>status</th>\n",
       "      <th>churn_label</th>\n",
       "      <th>churn_category</th>\n",
       "      <th>churn_reason</th>\n",
       "    </tr>\n",
       "  </thead>\n",
       "  <tbody>\n",
       "    <tr>\n",
       "      <th>0</th>\n",
       "      <td>0334-ZFJSR</td>\n",
       "      <td>92123</td>\n",
       "      <td>AAJU-HMJLK</td>\n",
       "      <td>55</td>\n",
       "      <td>0</td>\n",
       "      <td>Yes</td>\n",
       "      <td>Cable</td>\n",
       "      <td>No</td>\n",
       "      <td>Yes</td>\n",
       "      <td>Yes</td>\n",
       "      <td>Yes</td>\n",
       "      <td>Yes</td>\n",
       "      <td>Yes</td>\n",
       "      <td>No</td>\n",
       "      <td>One Year</td>\n",
       "      <td>Yes</td>\n",
       "      <td>Credit Card</td>\n",
       "      <td>35.38</td>\n",
       "      <td>1945.90</td>\n",
       "      <td>13</td>\n",
       "      <td>No</td>\n",
       "      <td>No</td>\n",
       "      <td>No</td>\n",
       "      <td>66.05</td>\n",
       "      <td>3462.10</td>\n",
       "      <td>44.53</td>\n",
       "      <td>Female</td>\n",
       "      <td>41</td>\n",
       "      <td>No</td>\n",
       "      <td>Yes</td>\n",
       "      <td>0</td>\n",
       "      <td>371</td>\n",
       "      <td>San Diego</td>\n",
       "      <td>32.808814</td>\n",
       "      <td>-117.134694</td>\n",
       "      <td>25232</td>\n",
       "      <td>Stayed</td>\n",
       "      <td>No</td>\n",
       "      <td></td>\n",
       "      <td></td>\n",
       "    </tr>\n",
       "    <tr>\n",
       "      <th>1</th>\n",
       "      <td>4006-HKYHO</td>\n",
       "      <td>93311</td>\n",
       "      <td>AAMB-TJYWC</td>\n",
       "      <td>63</td>\n",
       "      <td>0</td>\n",
       "      <td>Yes</td>\n",
       "      <td>DSL</td>\n",
       "      <td>Yes</td>\n",
       "      <td>Yes</td>\n",
       "      <td>No</td>\n",
       "      <td>Yes</td>\n",
       "      <td>Yes</td>\n",
       "      <td>Yes</td>\n",
       "      <td>Yes</td>\n",
       "      <td>Two Year</td>\n",
       "      <td>Yes</td>\n",
       "      <td>Bank Withdrawal</td>\n",
       "      <td>29.58</td>\n",
       "      <td>1863.54</td>\n",
       "      <td>47</td>\n",
       "      <td>Yes</td>\n",
       "      <td>Yes</td>\n",
       "      <td>Yes</td>\n",
       "      <td>86.70</td>\n",
       "      <td>5309.50</td>\n",
       "      <td>0.00</td>\n",
       "      <td>Male</td>\n",
       "      <td>24</td>\n",
       "      <td>No</td>\n",
       "      <td>No</td>\n",
       "      <td>0</td>\n",
       "      <td>696</td>\n",
       "      <td>Bakersfield</td>\n",
       "      <td>35.162070</td>\n",
       "      <td>-119.194488</td>\n",
       "      <td>20440</td>\n",
       "      <td>Stayed</td>\n",
       "      <td>No</td>\n",
       "      <td></td>\n",
       "      <td></td>\n",
       "    </tr>\n",
       "    <tr>\n",
       "      <th>2</th>\n",
       "      <td>3258-SYSWS</td>\n",
       "      <td>92040</td>\n",
       "      <td>AANL-MWPZF</td>\n",
       "      <td>72</td>\n",
       "      <td>0</td>\n",
       "      <td>Yes</td>\n",
       "      <td>Fiber Optic</td>\n",
       "      <td>Yes</td>\n",
       "      <td>Yes</td>\n",
       "      <td>Yes</td>\n",
       "      <td>Yes</td>\n",
       "      <td>Yes</td>\n",
       "      <td>Yes</td>\n",
       "      <td>Yes</td>\n",
       "      <td>Two Year</td>\n",
       "      <td>No</td>\n",
       "      <td>Bank Withdrawal</td>\n",
       "      <td>24.67</td>\n",
       "      <td>1776.24</td>\n",
       "      <td>26</td>\n",
       "      <td>Yes</td>\n",
       "      <td>Yes</td>\n",
       "      <td>No</td>\n",
       "      <td>113.80</td>\n",
       "      <td>7845.80</td>\n",
       "      <td>0.00</td>\n",
       "      <td>Male</td>\n",
       "      <td>75</td>\n",
       "      <td>Yes</td>\n",
       "      <td>No</td>\n",
       "      <td>0</td>\n",
       "      <td>329</td>\n",
       "      <td>Lakeside</td>\n",
       "      <td>32.909873</td>\n",
       "      <td>-116.906774</td>\n",
       "      <td>42277</td>\n",
       "      <td>Stayed</td>\n",
       "      <td>No</td>\n",
       "      <td></td>\n",
       "      <td></td>\n",
       "    </tr>\n",
       "    <tr>\n",
       "      <th>3</th>\n",
       "      <td>1820-DJFPH</td>\n",
       "      <td>95555</td>\n",
       "      <td>ABBQ-EXMMW</td>\n",
       "      <td>72</td>\n",
       "      <td>4</td>\n",
       "      <td>No</td>\n",
       "      <td>None</td>\n",
       "      <td>No</td>\n",
       "      <td>Yes</td>\n",
       "      <td>Yes</td>\n",
       "      <td>No</td>\n",
       "      <td>No</td>\n",
       "      <td>No</td>\n",
       "      <td>No</td>\n",
       "      <td>Two Year</td>\n",
       "      <td>Yes</td>\n",
       "      <td>Bank Withdrawal</td>\n",
       "      <td>48.29</td>\n",
       "      <td>3476.88</td>\n",
       "      <td>0</td>\n",
       "      <td>No</td>\n",
       "      <td>No</td>\n",
       "      <td>No</td>\n",
       "      <td>24.05</td>\n",
       "      <td>1709.15</td>\n",
       "      <td>0.00</td>\n",
       "      <td>Female</td>\n",
       "      <td>59</td>\n",
       "      <td>No</td>\n",
       "      <td>Yes</td>\n",
       "      <td>3</td>\n",
       "      <td>1310</td>\n",
       "      <td>Orick</td>\n",
       "      <td>41.336354</td>\n",
       "      <td>-124.044354</td>\n",
       "      <td>494</td>\n",
       "      <td>Stayed</td>\n",
       "      <td>No</td>\n",
       "      <td></td>\n",
       "      <td></td>\n",
       "    </tr>\n",
       "    <tr>\n",
       "      <th>4</th>\n",
       "      <td>0582-AVCLN</td>\n",
       "      <td>93304</td>\n",
       "      <td>ABHW-EXJZF</td>\n",
       "      <td>38</td>\n",
       "      <td>0</td>\n",
       "      <td>No</td>\n",
       "      <td>None</td>\n",
       "      <td>No</td>\n",
       "      <td>Yes</td>\n",
       "      <td>No</td>\n",
       "      <td>No</td>\n",
       "      <td>No</td>\n",
       "      <td>No</td>\n",
       "      <td>No</td>\n",
       "      <td>Two Year</td>\n",
       "      <td>No</td>\n",
       "      <td>Credit Card</td>\n",
       "      <td>43.19</td>\n",
       "      <td>1641.22</td>\n",
       "      <td>0</td>\n",
       "      <td>No</td>\n",
       "      <td>No</td>\n",
       "      <td>No</td>\n",
       "      <td>20.30</td>\n",
       "      <td>743.05</td>\n",
       "      <td>0.00</td>\n",
       "      <td>Female</td>\n",
       "      <td>43</td>\n",
       "      <td>No</td>\n",
       "      <td>No</td>\n",
       "      <td>0</td>\n",
       "      <td>690</td>\n",
       "      <td>Bakersfield</td>\n",
       "      <td>35.339796</td>\n",
       "      <td>-119.023552</td>\n",
       "      <td>44588</td>\n",
       "      <td>Stayed</td>\n",
       "      <td>No</td>\n",
       "      <td></td>\n",
       "      <td></td>\n",
       "    </tr>\n",
       "    <tr>\n",
       "      <th>...</th>\n",
       "      <td>...</td>\n",
       "      <td>...</td>\n",
       "      <td>...</td>\n",
       "      <td>...</td>\n",
       "      <td>...</td>\n",
       "      <td>...</td>\n",
       "      <td>...</td>\n",
       "      <td>...</td>\n",
       "      <td>...</td>\n",
       "      <td>...</td>\n",
       "      <td>...</td>\n",
       "      <td>...</td>\n",
       "      <td>...</td>\n",
       "      <td>...</td>\n",
       "      <td>...</td>\n",
       "      <td>...</td>\n",
       "      <td>...</td>\n",
       "      <td>...</td>\n",
       "      <td>...</td>\n",
       "      <td>...</td>\n",
       "      <td>...</td>\n",
       "      <td>...</td>\n",
       "      <td>...</td>\n",
       "      <td>...</td>\n",
       "      <td>...</td>\n",
       "      <td>...</td>\n",
       "      <td>...</td>\n",
       "      <td>...</td>\n",
       "      <td>...</td>\n",
       "      <td>...</td>\n",
       "      <td>...</td>\n",
       "      <td>...</td>\n",
       "      <td>...</td>\n",
       "      <td>...</td>\n",
       "      <td>...</td>\n",
       "      <td>...</td>\n",
       "      <td>...</td>\n",
       "      <td>...</td>\n",
       "      <td>...</td>\n",
       "      <td>...</td>\n",
       "    </tr>\n",
       "    <tr>\n",
       "      <th>7038</th>\n",
       "      <td>6848-YLDFR</td>\n",
       "      <td>96035</td>\n",
       "      <td>ZWXF-QGPFD</td>\n",
       "      <td>58</td>\n",
       "      <td>9</td>\n",
       "      <td>Yes</td>\n",
       "      <td>DSL</td>\n",
       "      <td>Yes</td>\n",
       "      <td>Yes</td>\n",
       "      <td>No</td>\n",
       "      <td>Yes</td>\n",
       "      <td>No</td>\n",
       "      <td>Yes</td>\n",
       "      <td>No</td>\n",
       "      <td>One Year</td>\n",
       "      <td>Yes</td>\n",
       "      <td>Credit Card</td>\n",
       "      <td>35.35</td>\n",
       "      <td>2050.30</td>\n",
       "      <td>29</td>\n",
       "      <td>Yes</td>\n",
       "      <td>Yes</td>\n",
       "      <td>Yes</td>\n",
       "      <td>75.20</td>\n",
       "      <td>4300.80</td>\n",
       "      <td>0.00</td>\n",
       "      <td>Male</td>\n",
       "      <td>54</td>\n",
       "      <td>No</td>\n",
       "      <td>Yes</td>\n",
       "      <td>2</td>\n",
       "      <td>1546</td>\n",
       "      <td>Gerber</td>\n",
       "      <td>40.031940</td>\n",
       "      <td>-122.176023</td>\n",
       "      <td>3357</td>\n",
       "      <td>Stayed</td>\n",
       "      <td>No</td>\n",
       "      <td></td>\n",
       "      <td></td>\n",
       "    </tr>\n",
       "    <tr>\n",
       "      <th>7039</th>\n",
       "      <td>7587-AOVVU</td>\n",
       "      <td>95521</td>\n",
       "      <td>ZXNR-BOLMC</td>\n",
       "      <td>27</td>\n",
       "      <td>0</td>\n",
       "      <td>Yes</td>\n",
       "      <td>Fiber Optic</td>\n",
       "      <td>Yes</td>\n",
       "      <td>Yes</td>\n",
       "      <td>Yes</td>\n",
       "      <td>Yes</td>\n",
       "      <td>Yes</td>\n",
       "      <td>Yes</td>\n",
       "      <td>No</td>\n",
       "      <td>Month-to-Month</td>\n",
       "      <td>No</td>\n",
       "      <td>Bank Withdrawal</td>\n",
       "      <td>14.07</td>\n",
       "      <td>379.89</td>\n",
       "      <td>15</td>\n",
       "      <td>Yes</td>\n",
       "      <td>No</td>\n",
       "      <td>No</td>\n",
       "      <td>100.75</td>\n",
       "      <td>2793.55</td>\n",
       "      <td>0.00</td>\n",
       "      <td>Male</td>\n",
       "      <td>39</td>\n",
       "      <td>No</td>\n",
       "      <td>Yes</td>\n",
       "      <td>1</td>\n",
       "      <td>1289</td>\n",
       "      <td>Arcata</td>\n",
       "      <td>40.839958</td>\n",
       "      <td>-124.003757</td>\n",
       "      <td>19596</td>\n",
       "      <td>Stayed</td>\n",
       "      <td>No</td>\n",
       "      <td></td>\n",
       "      <td></td>\n",
       "    </tr>\n",
       "    <tr>\n",
       "      <th>7040</th>\n",
       "      <td>7479-NITWS</td>\n",
       "      <td>92341</td>\n",
       "      <td>ZXYG-EZZNH</td>\n",
       "      <td>7</td>\n",
       "      <td>0</td>\n",
       "      <td>Yes</td>\n",
       "      <td>Fiber Optic</td>\n",
       "      <td>No</td>\n",
       "      <td>Yes</td>\n",
       "      <td>Yes</td>\n",
       "      <td>No</td>\n",
       "      <td>No</td>\n",
       "      <td>No</td>\n",
       "      <td>Yes</td>\n",
       "      <td>Month-to-Month</td>\n",
       "      <td>Yes</td>\n",
       "      <td>Credit Card</td>\n",
       "      <td>36.84</td>\n",
       "      <td>257.88</td>\n",
       "      <td>17</td>\n",
       "      <td>Yes</td>\n",
       "      <td>No</td>\n",
       "      <td>No</td>\n",
       "      <td>89.35</td>\n",
       "      <td>631.85</td>\n",
       "      <td>0.00</td>\n",
       "      <td>Male</td>\n",
       "      <td>35</td>\n",
       "      <td>No</td>\n",
       "      <td>No</td>\n",
       "      <td>0</td>\n",
       "      <td>451</td>\n",
       "      <td>Green Valley Lake</td>\n",
       "      <td>34.244411</td>\n",
       "      <td>-117.072654</td>\n",
       "      <td>317</td>\n",
       "      <td>Churned</td>\n",
       "      <td>Yes</td>\n",
       "      <td>Price</td>\n",
       "      <td>Price too high</td>\n",
       "    </tr>\n",
       "    <tr>\n",
       "      <th>7041</th>\n",
       "      <td>8910-LEDAG</td>\n",
       "      <td>93651</td>\n",
       "      <td>ZYQO-YPQDV</td>\n",
       "      <td>34</td>\n",
       "      <td>2</td>\n",
       "      <td>Yes</td>\n",
       "      <td>Fiber Optic</td>\n",
       "      <td>Yes</td>\n",
       "      <td>Yes</td>\n",
       "      <td>No</td>\n",
       "      <td>No</td>\n",
       "      <td>No</td>\n",
       "      <td>No</td>\n",
       "      <td>No</td>\n",
       "      <td>Two Year</td>\n",
       "      <td>No</td>\n",
       "      <td>Credit Card</td>\n",
       "      <td>12.98</td>\n",
       "      <td>441.32</td>\n",
       "      <td>8</td>\n",
       "      <td>No</td>\n",
       "      <td>No</td>\n",
       "      <td>No</td>\n",
       "      <td>71.55</td>\n",
       "      <td>2427.35</td>\n",
       "      <td>0.00</td>\n",
       "      <td>Male</td>\n",
       "      <td>72</td>\n",
       "      <td>Yes</td>\n",
       "      <td>Yes</td>\n",
       "      <td>0</td>\n",
       "      <td>805</td>\n",
       "      <td>Prather</td>\n",
       "      <td>37.007238</td>\n",
       "      <td>-119.505661</td>\n",
       "      <td>1314</td>\n",
       "      <td>Stayed</td>\n",
       "      <td>No</td>\n",
       "      <td></td>\n",
       "      <td></td>\n",
       "    </tr>\n",
       "    <tr>\n",
       "      <th>7042</th>\n",
       "      <td>7107-UBYKY</td>\n",
       "      <td>95982</td>\n",
       "      <td>ZZGW-JETUZ</td>\n",
       "      <td>35</td>\n",
       "      <td>5</td>\n",
       "      <td>No</td>\n",
       "      <td>None</td>\n",
       "      <td>No</td>\n",
       "      <td>Yes</td>\n",
       "      <td>Yes</td>\n",
       "      <td>No</td>\n",
       "      <td>No</td>\n",
       "      <td>No</td>\n",
       "      <td>No</td>\n",
       "      <td>Month-to-Month</td>\n",
       "      <td>Yes</td>\n",
       "      <td>Bank Withdrawal</td>\n",
       "      <td>24.76</td>\n",
       "      <td>866.60</td>\n",
       "      <td>0</td>\n",
       "      <td>No</td>\n",
       "      <td>No</td>\n",
       "      <td>No</td>\n",
       "      <td>25.75</td>\n",
       "      <td>882.55</td>\n",
       "      <td>0.00</td>\n",
       "      <td>Female</td>\n",
       "      <td>62</td>\n",
       "      <td>No</td>\n",
       "      <td>Yes</td>\n",
       "      <td>1</td>\n",
       "      <td>1511</td>\n",
       "      <td>Sutter</td>\n",
       "      <td>39.172777</td>\n",
       "      <td>-121.805845</td>\n",
       "      <td>3193</td>\n",
       "      <td>Stayed</td>\n",
       "      <td>No</td>\n",
       "      <td></td>\n",
       "      <td></td>\n",
       "    </tr>\n",
       "  </tbody>\n",
       "</table>\n",
       "<p>7043 rows × 40 columns</p>\n",
       "</div>"
      ],
      "text/plain": [
       "     customer_id  zip_code  account_id  tenure_months  num_referrals  \\\n",
       "0     0334-ZFJSR     92123  AAJU-HMJLK             55              0   \n",
       "1     4006-HKYHO     93311  AAMB-TJYWC             63              0   \n",
       "2     3258-SYSWS     92040  AANL-MWPZF             72              0   \n",
       "3     1820-DJFPH     95555  ABBQ-EXMMW             72              4   \n",
       "4     0582-AVCLN     93304  ABHW-EXJZF             38              0   \n",
       "...          ...       ...         ...            ...            ...   \n",
       "7038  6848-YLDFR     96035  ZWXF-QGPFD             58              9   \n",
       "7039  7587-AOVVU     95521  ZXNR-BOLMC             27              0   \n",
       "7040  7479-NITWS     92341  ZXYG-EZZNH              7              0   \n",
       "7041  8910-LEDAG     93651  ZYQO-YPQDV             34              2   \n",
       "7042  7107-UBYKY     95982  ZZGW-JETUZ             35              5   \n",
       "\n",
       "     has_internet_service internet_type has_unlimited_data has_phone_service  \\\n",
       "0                     Yes         Cable                 No               Yes   \n",
       "1                     Yes           DSL                Yes               Yes   \n",
       "2                     Yes   Fiber Optic                Yes               Yes   \n",
       "3                      No          None                 No               Yes   \n",
       "4                      No          None                 No               Yes   \n",
       "...                   ...           ...                ...               ...   \n",
       "7038                  Yes           DSL                Yes               Yes   \n",
       "7039                  Yes   Fiber Optic                Yes               Yes   \n",
       "7040                  Yes   Fiber Optic                 No               Yes   \n",
       "7041                  Yes   Fiber Optic                Yes               Yes   \n",
       "7042                   No          None                 No               Yes   \n",
       "\n",
       "     has_multiple_lines has_premium_tech_support has_online_security  \\\n",
       "0                   Yes                      Yes                 Yes   \n",
       "1                    No                      Yes                 Yes   \n",
       "2                   Yes                      Yes                 Yes   \n",
       "3                   Yes                       No                  No   \n",
       "4                    No                       No                  No   \n",
       "...                 ...                      ...                 ...   \n",
       "7038                 No                      Yes                  No   \n",
       "7039                Yes                      Yes                 Yes   \n",
       "7040                Yes                       No                  No   \n",
       "7041                 No                       No                  No   \n",
       "7042                Yes                       No                  No   \n",
       "\n",
       "     has_online_backup has_device_protection   contract_type  \\\n",
       "0                  Yes                    No        One Year   \n",
       "1                  Yes                   Yes        Two Year   \n",
       "2                  Yes                   Yes        Two Year   \n",
       "3                   No                    No        Two Year   \n",
       "4                   No                    No        Two Year   \n",
       "...                ...                   ...             ...   \n",
       "7038               Yes                    No        One Year   \n",
       "7039               Yes                    No  Month-to-Month   \n",
       "7040                No                   Yes  Month-to-Month   \n",
       "7041                No                    No        Two Year   \n",
       "7042                No                    No  Month-to-Month   \n",
       "\n",
       "     paperless_billing   payment_method  avg_long_distance_fee_monthly  \\\n",
       "0                  Yes      Credit Card                          35.38   \n",
       "1                  Yes  Bank Withdrawal                          29.58   \n",
       "2                   No  Bank Withdrawal                          24.67   \n",
       "3                  Yes  Bank Withdrawal                          48.29   \n",
       "4                   No      Credit Card                          43.19   \n",
       "...                ...              ...                            ...   \n",
       "7038               Yes      Credit Card                          35.35   \n",
       "7039                No  Bank Withdrawal                          14.07   \n",
       "7040               Yes      Credit Card                          36.84   \n",
       "7041                No      Credit Card                          12.98   \n",
       "7042               Yes  Bank Withdrawal                          24.76   \n",
       "\n",
       "      total_long_distance_fee  avg_gb_download_monthly stream_tv stream_movie  \\\n",
       "0                     1945.90                       13        No           No   \n",
       "1                     1863.54                       47       Yes          Yes   \n",
       "2                     1776.24                       26       Yes          Yes   \n",
       "3                     3476.88                        0        No           No   \n",
       "4                     1641.22                        0        No           No   \n",
       "...                       ...                      ...       ...          ...   \n",
       "7038                  2050.30                       29       Yes          Yes   \n",
       "7039                   379.89                       15       Yes           No   \n",
       "7040                   257.88                       17       Yes           No   \n",
       "7041                   441.32                        8        No           No   \n",
       "7042                   866.60                        0        No           No   \n",
       "\n",
       "     stream_music  total_monthly_fee  total_charges_quarter  total_refunds  \\\n",
       "0              No              66.05                3462.10          44.53   \n",
       "1             Yes              86.70                5309.50           0.00   \n",
       "2              No             113.80                7845.80           0.00   \n",
       "3              No              24.05                1709.15           0.00   \n",
       "4              No              20.30                 743.05           0.00   \n",
       "...           ...                ...                    ...            ...   \n",
       "7038          Yes              75.20                4300.80           0.00   \n",
       "7039           No             100.75                2793.55           0.00   \n",
       "7040           No              89.35                 631.85           0.00   \n",
       "7041           No              71.55                2427.35           0.00   \n",
       "7042           No              25.75                 882.55           0.00   \n",
       "\n",
       "      gender  age senior_citizen married  num_dependents  area_id  \\\n",
       "0     Female   41             No     Yes               0      371   \n",
       "1       Male   24             No      No               0      696   \n",
       "2       Male   75            Yes      No               0      329   \n",
       "3     Female   59             No     Yes               3     1310   \n",
       "4     Female   43             No      No               0      690   \n",
       "...      ...  ...            ...     ...             ...      ...   \n",
       "7038    Male   54             No     Yes               2     1546   \n",
       "7039    Male   39             No     Yes               1     1289   \n",
       "7040    Male   35             No      No               0      451   \n",
       "7041    Male   72            Yes     Yes               0      805   \n",
       "7042  Female   62             No     Yes               1     1511   \n",
       "\n",
       "                   city  latitutde   longitude  population   status  \\\n",
       "0             San Diego  32.808814 -117.134694       25232   Stayed   \n",
       "1           Bakersfield  35.162070 -119.194488       20440   Stayed   \n",
       "2              Lakeside  32.909873 -116.906774       42277   Stayed   \n",
       "3                 Orick  41.336354 -124.044354         494   Stayed   \n",
       "4           Bakersfield  35.339796 -119.023552       44588   Stayed   \n",
       "...                 ...        ...         ...         ...      ...   \n",
       "7038             Gerber  40.031940 -122.176023        3357   Stayed   \n",
       "7039             Arcata  40.839958 -124.003757       19596   Stayed   \n",
       "7040  Green Valley Lake  34.244411 -117.072654         317  Churned   \n",
       "7041            Prather  37.007238 -119.505661        1314   Stayed   \n",
       "7042             Sutter  39.172777 -121.805845        3193   Stayed   \n",
       "\n",
       "     churn_label churn_category    churn_reason  \n",
       "0             No                                 \n",
       "1             No                                 \n",
       "2             No                                 \n",
       "3             No                                 \n",
       "4             No                                 \n",
       "...          ...            ...             ...  \n",
       "7038          No                                 \n",
       "7039          No                                 \n",
       "7040         Yes          Price  Price too high  \n",
       "7041          No                                 \n",
       "7042          No                                 \n",
       "\n",
       "[7043 rows x 40 columns]"
      ]
     },
     "execution_count": 4,
     "metadata": {},
     "output_type": "execute_result"
    }
   ],
   "source": [
    "database_conn = create_engine(f'mysql+pymysql://{USERNAME}:{PASSWORD}@{ENDPOINT}/{DBNAME}')\n",
    "\n",
    "query = \"\"\"\n",
    "WITH \n",
    "temp_table1 AS (\n",
    "    SELECT *\n",
    "    FROM account\n",
    "    LEFT JOIN account_usage USING (account_id)\n",
    "    ),\n",
    "temp_table2 AS (\n",
    "\tSELECT *\n",
    "\tFROM temp_table1\n",
    "\tLEFT JOIN customer USING (customer_id)\n",
    "    ),\n",
    "temp_table3 AS (\n",
    "\tSELECT *\n",
    "\tFROM temp_table2\n",
    "\tLEFT JOIN city USING (zip_code)\n",
    "    )\n",
    "SELECT * FROM temp_table3\n",
    "LEFT JOIN churn_status USING (customer_id)\n",
    ";\n",
    "\n",
    "\"\"\"\n",
    "\n",
    "final_analytic = pd.read_sql(query, database_conn)\n",
    "final_analytic"
   ]
  },
  {
   "cell_type": "markdown",
   "metadata": {},
   "source": [
    "3. data processing"
   ]
  },
  {
   "cell_type": "code",
   "execution_count": 5,
   "metadata": {},
   "outputs": [],
   "source": [
    "df = final_analytic.copy()"
   ]
  },
  {
   "cell_type": "code",
   "execution_count": 6,
   "metadata": {},
   "outputs": [
    {
     "data": {
      "text/plain": [
       "array(['No', 'Yes', ''], dtype=object)"
      ]
     },
     "execution_count": 6,
     "metadata": {},
     "output_type": "execute_result"
    }
   ],
   "source": [
    "df['churn_label'].unique()"
   ]
  },
  {
   "cell_type": "code",
   "execution_count": 7,
   "metadata": {},
   "outputs": [
    {
     "data": {
      "text/plain": [
       "array(['Stayed', 'Joined', 'Churned'], dtype=object)"
      ]
     },
     "execution_count": 7,
     "metadata": {},
     "output_type": "execute_result"
    }
   ],
   "source": [
    "df['status'].unique()"
   ]
  },
  {
   "cell_type": "code",
   "execution_count": 8,
   "metadata": {},
   "outputs": [],
   "source": [
    "df.loc[df['status'] == 'Churned', 'churn_label'] = 'Yes'"
   ]
  },
  {
   "cell_type": "code",
   "execution_count": 9,
   "metadata": {},
   "outputs": [
    {
     "data": {
      "text/plain": [
       "array(['No', 'Yes'], dtype=object)"
      ]
     },
     "execution_count": 9,
     "metadata": {},
     "output_type": "execute_result"
    }
   ],
   "source": [
    "df['churn_label'].unique()"
   ]
  },
  {
   "cell_type": "code",
   "execution_count": 10,
   "metadata": {},
   "outputs": [],
   "source": [
    "df.set_index(['customer_id', 'account_id'], inplace=True)\n",
    "df['churn_label'] = df['churn_label'].map({'Yes': 1, 'No': 0})"
   ]
  },
  {
   "cell_type": "code",
   "execution_count": 11,
   "metadata": {},
   "outputs": [
    {
     "data": {
      "text/plain": [
       "zip_code                           int64\n",
       "tenure_months                      int64\n",
       "num_referrals                      int64\n",
       "has_internet_service              object\n",
       "internet_type                     object\n",
       "has_unlimited_data                object\n",
       "has_phone_service                 object\n",
       "has_multiple_lines                object\n",
       "has_premium_tech_support          object\n",
       "has_online_security               object\n",
       "has_online_backup                 object\n",
       "has_device_protection             object\n",
       "contract_type                     object\n",
       "paperless_billing                 object\n",
       "payment_method                    object\n",
       "avg_long_distance_fee_monthly    float64\n",
       "total_long_distance_fee          float64\n",
       "avg_gb_download_monthly            int64\n",
       "stream_tv                         object\n",
       "stream_movie                      object\n",
       "stream_music                      object\n",
       "total_monthly_fee                float64\n",
       "total_charges_quarter            float64\n",
       "total_refunds                    float64\n",
       "gender                            object\n",
       "age                                int64\n",
       "senior_citizen                    object\n",
       "married                           object\n",
       "num_dependents                     int64\n",
       "area_id                            int64\n",
       "city                              object\n",
       "latitutde                        float64\n",
       "longitude                        float64\n",
       "population                         int64\n",
       "status                            object\n",
       "churn_label                        int64\n",
       "churn_category                    object\n",
       "churn_reason                      object\n",
       "dtype: object"
      ]
     },
     "execution_count": 11,
     "metadata": {},
     "output_type": "execute_result"
    }
   ],
   "source": [
    "df.dtypes"
   ]
  },
  {
   "cell_type": "code",
   "execution_count": 12,
   "metadata": {},
   "outputs": [
    {
     "data": {
      "text/plain": [
       "Index(['zip_code', 'tenure_months', 'num_referrals', 'has_internet_service',\n",
       "       'internet_type', 'has_unlimited_data', 'has_phone_service',\n",
       "       'has_multiple_lines', 'has_premium_tech_support', 'has_online_security',\n",
       "       'has_online_backup', 'has_device_protection', 'contract_type',\n",
       "       'paperless_billing', 'payment_method', 'avg_long_distance_fee_monthly',\n",
       "       'total_long_distance_fee', 'avg_gb_download_monthly', 'stream_tv',\n",
       "       'stream_movie', 'stream_music', 'total_monthly_fee',\n",
       "       'total_charges_quarter', 'total_refunds', 'gender', 'age',\n",
       "       'senior_citizen', 'married', 'num_dependents', 'area_id', 'city',\n",
       "       'latitutde', 'longitude', 'population', 'status', 'churn_label',\n",
       "       'churn_category', 'churn_reason'],\n",
       "      dtype='object')"
      ]
     },
     "execution_count": 12,
     "metadata": {},
     "output_type": "execute_result"
    }
   ],
   "source": [
    "df.columns"
   ]
  },
  {
   "cell_type": "markdown",
   "metadata": {},
   "source": [
    "4. EDA"
   ]
  },
  {
   "cell_type": "code",
   "execution_count": 13,
   "metadata": {},
   "outputs": [
    {
     "data": {
      "application/vnd.plotly.v1+json": {
       "config": {
        "plotlyServerURL": "https://plot.ly"
       },
       "data": [
        {
         "alignmentgroup": "True",
         "hovertemplate": "Tenure (Months)=%{x}<br>Percentage=%{y}<br>Churn Status=%{marker.color}<extra></extra>",
         "legendgroup": "",
         "marker": {
          "color": [
           0,
           1,
           0,
           1,
           0,
           1,
           0,
           1,
           0,
           1,
           0,
           1,
           0,
           1,
           0,
           1,
           0,
           1,
           0,
           1,
           0,
           1,
           0,
           1,
           0,
           1,
           0,
           1,
           0,
           1,
           0,
           1,
           0,
           1,
           0,
           1,
           0,
           1,
           0,
           1,
           0,
           1,
           0,
           1,
           0,
           1,
           0,
           1,
           0,
           1,
           0,
           1,
           0,
           1,
           0,
           1,
           0,
           1,
           0,
           1,
           0,
           1,
           0,
           1,
           0,
           1,
           0,
           1,
           0,
           1,
           0,
           1,
           0,
           1,
           0,
           1,
           0,
           1,
           0,
           1,
           0,
           1,
           0,
           1,
           0,
           1,
           0,
           1,
           0,
           1,
           0,
           1,
           0,
           1,
           0,
           1,
           0,
           1,
           0,
           1,
           0,
           1,
           0,
           1,
           0,
           1,
           0,
           1,
           0,
           1,
           0,
           1,
           0,
           1,
           0,
           1,
           0,
           1,
           0,
           1,
           0,
           1,
           0,
           1,
           0,
           1,
           0,
           1,
           0,
           1,
           0,
           1,
           0,
           1,
           0,
           1,
           0,
           1,
           0,
           1,
           0,
           1,
           0,
           1
          ],
          "coloraxis": "coloraxis",
          "pattern": {
           "shape": ""
          }
         },
         "name": "",
         "offsetgroup": "",
         "orientation": "v",
         "showlegend": false,
         "textposition": "auto",
         "type": "bar",
         "x": [
          1,
          1,
          2,
          2,
          3,
          3,
          4,
          4,
          5,
          5,
          6,
          6,
          7,
          7,
          8,
          8,
          9,
          9,
          10,
          10,
          11,
          11,
          12,
          12,
          13,
          13,
          14,
          14,
          15,
          15,
          16,
          16,
          17,
          17,
          18,
          18,
          19,
          19,
          20,
          20,
          21,
          21,
          22,
          22,
          23,
          23,
          24,
          24,
          25,
          25,
          26,
          26,
          27,
          27,
          28,
          28,
          29,
          29,
          30,
          30,
          31,
          31,
          32,
          32,
          33,
          33,
          34,
          34,
          35,
          35,
          36,
          36,
          37,
          37,
          38,
          38,
          39,
          39,
          40,
          40,
          41,
          41,
          42,
          42,
          43,
          43,
          44,
          44,
          45,
          45,
          46,
          46,
          47,
          47,
          48,
          48,
          49,
          49,
          50,
          50,
          51,
          51,
          52,
          52,
          53,
          53,
          54,
          54,
          55,
          55,
          56,
          56,
          57,
          57,
          58,
          58,
          59,
          59,
          60,
          60,
          61,
          61,
          62,
          62,
          63,
          63,
          64,
          64,
          65,
          65,
          66,
          66,
          67,
          67,
          68,
          68,
          69,
          69,
          70,
          70,
          71,
          71,
          72,
          72
         ],
         "xaxis": "x",
         "y": [
          38.00978792822186,
          61.99021207177814,
          48.319327731092436,
          51.68067226890757,
          53,
          47,
          52.84090909090909,
          47.159090909090914,
          51.8796992481203,
          48.1203007518797,
          63.63636363636363,
          36.36363636363637,
          61.06870229007634,
          38.93129770992366,
          65.85365853658537,
          34.146341463414636,
          61.34453781512605,
          38.655462184873954,
          64.56692913385827,
          35.43307086614173,
          68.68686868686868,
          31.313131313131315,
          67.52136752136752,
          32.47863247863248,
          65.13761467889908,
          34.862385321100916,
          68.42105263157895,
          31.57894736842105,
          62.62626262626263,
          37.37373737373738,
          65,
          35,
          70.11494252873564,
          29.88505747126437,
          75.25773195876289,
          24.742268041237114,
          73.97260273972603,
          26.027397260273972,
          74.64788732394366,
          25.352112676056336,
          73.01587301587301,
          26.984126984126984,
          70,
          30,
          84.70588235294117,
          15.294117647058824,
          75.53191489361703,
          24.46808510638298,
          70.88607594936708,
          29.11392405063291,
          81.0126582278481,
          18.9873417721519,
          81.94444444444444,
          18.055555555555554,
          78.94736842105263,
          21.052631578947366,
          79.16666666666666,
          20.833333333333336,
          77.77777777777779,
          22.22222222222222,
          75.38461538461539,
          24.615384615384617,
          72.46376811594203,
          27.536231884057973,
          78.125,
          21.875,
          81.53846153846153,
          18.461538461538463,
          82.95454545454545,
          17.045454545454543,
          80,
          20,
          76.92307692307693,
          23.076923076923077,
          77.96610169491525,
          22.033898305084744,
          75,
          25,
          79.6875,
          20.3125,
          80,
          20,
          78.46153846153847,
          21.53846153846154,
          76.92307692307693,
          23.076923076923077,
          88.23529411764706,
          11.76470588235294,
          90.1639344262295,
          9.836065573770492,
          83.78378378378379,
          16.216216216216218,
          79.41176470588235,
          20.588235294117645,
          85.9375,
          14.0625,
          77.27272727272727,
          22.727272727272727,
          85.29411764705883,
          14.705882352941178,
          88.23529411764706,
          11.76470588235294,
          90,
          10,
          80,
          20,
          80.88235294117648,
          19.11764705882353,
          85.9375,
          14.0625,
          87.5,
          12.5,
          87.6923076923077,
          12.307692307692308,
          83.5820895522388,
          16.417910447761194,
          86.66666666666667,
          13.333333333333334,
          92.10526315789474,
          7.894736842105263,
          89.47368421052632,
          10.526315789473683,
          92.85714285714286,
          7.142857142857142,
          94.44444444444444,
          5.555555555555555,
          95,
          5,
          88.1578947368421,
          11.842105263157894,
          85.39325842696628,
          14.606741573033707,
          89.79591836734694,
          10.204081632653061,
          91,
          9,
          91.57894736842105,
          8.421052631578947,
          90.75630252100841,
          9.243697478991598,
          96.47058823529412,
          3.5294117647058822,
          98.34254143646409,
          1.6574585635359116
         ],
         "yaxis": "y"
        }
       ],
       "layout": {
        "barmode": "group",
        "coloraxis": {
         "colorbar": {
          "title": {
           "text": "Churn Status"
          }
         },
         "colorscale": [
          [
           0,
           "#0d0887"
          ],
          [
           0.1111111111111111,
           "#46039f"
          ],
          [
           0.2222222222222222,
           "#7201a8"
          ],
          [
           0.3333333333333333,
           "#9c179e"
          ],
          [
           0.4444444444444444,
           "#bd3786"
          ],
          [
           0.5555555555555556,
           "#d8576b"
          ],
          [
           0.6666666666666666,
           "#ed7953"
          ],
          [
           0.7777777777777778,
           "#fb9f3a"
          ],
          [
           0.8888888888888888,
           "#fdca26"
          ],
          [
           1,
           "#f0f921"
          ]
         ]
        },
        "legend": {
         "tracegroupgap": 0
        },
        "template": {
         "data": {
          "bar": [
           {
            "error_x": {
             "color": "#2a3f5f"
            },
            "error_y": {
             "color": "#2a3f5f"
            },
            "marker": {
             "line": {
              "color": "#E5ECF6",
              "width": 0.5
             },
             "pattern": {
              "fillmode": "overlay",
              "size": 10,
              "solidity": 0.2
             }
            },
            "type": "bar"
           }
          ],
          "barpolar": [
           {
            "marker": {
             "line": {
              "color": "#E5ECF6",
              "width": 0.5
             },
             "pattern": {
              "fillmode": "overlay",
              "size": 10,
              "solidity": 0.2
             }
            },
            "type": "barpolar"
           }
          ],
          "carpet": [
           {
            "aaxis": {
             "endlinecolor": "#2a3f5f",
             "gridcolor": "white",
             "linecolor": "white",
             "minorgridcolor": "white",
             "startlinecolor": "#2a3f5f"
            },
            "baxis": {
             "endlinecolor": "#2a3f5f",
             "gridcolor": "white",
             "linecolor": "white",
             "minorgridcolor": "white",
             "startlinecolor": "#2a3f5f"
            },
            "type": "carpet"
           }
          ],
          "choropleth": [
           {
            "colorbar": {
             "outlinewidth": 0,
             "ticks": ""
            },
            "type": "choropleth"
           }
          ],
          "contour": [
           {
            "colorbar": {
             "outlinewidth": 0,
             "ticks": ""
            },
            "colorscale": [
             [
              0,
              "#0d0887"
             ],
             [
              0.1111111111111111,
              "#46039f"
             ],
             [
              0.2222222222222222,
              "#7201a8"
             ],
             [
              0.3333333333333333,
              "#9c179e"
             ],
             [
              0.4444444444444444,
              "#bd3786"
             ],
             [
              0.5555555555555556,
              "#d8576b"
             ],
             [
              0.6666666666666666,
              "#ed7953"
             ],
             [
              0.7777777777777778,
              "#fb9f3a"
             ],
             [
              0.8888888888888888,
              "#fdca26"
             ],
             [
              1,
              "#f0f921"
             ]
            ],
            "type": "contour"
           }
          ],
          "contourcarpet": [
           {
            "colorbar": {
             "outlinewidth": 0,
             "ticks": ""
            },
            "type": "contourcarpet"
           }
          ],
          "heatmap": [
           {
            "colorbar": {
             "outlinewidth": 0,
             "ticks": ""
            },
            "colorscale": [
             [
              0,
              "#0d0887"
             ],
             [
              0.1111111111111111,
              "#46039f"
             ],
             [
              0.2222222222222222,
              "#7201a8"
             ],
             [
              0.3333333333333333,
              "#9c179e"
             ],
             [
              0.4444444444444444,
              "#bd3786"
             ],
             [
              0.5555555555555556,
              "#d8576b"
             ],
             [
              0.6666666666666666,
              "#ed7953"
             ],
             [
              0.7777777777777778,
              "#fb9f3a"
             ],
             [
              0.8888888888888888,
              "#fdca26"
             ],
             [
              1,
              "#f0f921"
             ]
            ],
            "type": "heatmap"
           }
          ],
          "heatmapgl": [
           {
            "colorbar": {
             "outlinewidth": 0,
             "ticks": ""
            },
            "colorscale": [
             [
              0,
              "#0d0887"
             ],
             [
              0.1111111111111111,
              "#46039f"
             ],
             [
              0.2222222222222222,
              "#7201a8"
             ],
             [
              0.3333333333333333,
              "#9c179e"
             ],
             [
              0.4444444444444444,
              "#bd3786"
             ],
             [
              0.5555555555555556,
              "#d8576b"
             ],
             [
              0.6666666666666666,
              "#ed7953"
             ],
             [
              0.7777777777777778,
              "#fb9f3a"
             ],
             [
              0.8888888888888888,
              "#fdca26"
             ],
             [
              1,
              "#f0f921"
             ]
            ],
            "type": "heatmapgl"
           }
          ],
          "histogram": [
           {
            "marker": {
             "pattern": {
              "fillmode": "overlay",
              "size": 10,
              "solidity": 0.2
             }
            },
            "type": "histogram"
           }
          ],
          "histogram2d": [
           {
            "colorbar": {
             "outlinewidth": 0,
             "ticks": ""
            },
            "colorscale": [
             [
              0,
              "#0d0887"
             ],
             [
              0.1111111111111111,
              "#46039f"
             ],
             [
              0.2222222222222222,
              "#7201a8"
             ],
             [
              0.3333333333333333,
              "#9c179e"
             ],
             [
              0.4444444444444444,
              "#bd3786"
             ],
             [
              0.5555555555555556,
              "#d8576b"
             ],
             [
              0.6666666666666666,
              "#ed7953"
             ],
             [
              0.7777777777777778,
              "#fb9f3a"
             ],
             [
              0.8888888888888888,
              "#fdca26"
             ],
             [
              1,
              "#f0f921"
             ]
            ],
            "type": "histogram2d"
           }
          ],
          "histogram2dcontour": [
           {
            "colorbar": {
             "outlinewidth": 0,
             "ticks": ""
            },
            "colorscale": [
             [
              0,
              "#0d0887"
             ],
             [
              0.1111111111111111,
              "#46039f"
             ],
             [
              0.2222222222222222,
              "#7201a8"
             ],
             [
              0.3333333333333333,
              "#9c179e"
             ],
             [
              0.4444444444444444,
              "#bd3786"
             ],
             [
              0.5555555555555556,
              "#d8576b"
             ],
             [
              0.6666666666666666,
              "#ed7953"
             ],
             [
              0.7777777777777778,
              "#fb9f3a"
             ],
             [
              0.8888888888888888,
              "#fdca26"
             ],
             [
              1,
              "#f0f921"
             ]
            ],
            "type": "histogram2dcontour"
           }
          ],
          "mesh3d": [
           {
            "colorbar": {
             "outlinewidth": 0,
             "ticks": ""
            },
            "type": "mesh3d"
           }
          ],
          "parcoords": [
           {
            "line": {
             "colorbar": {
              "outlinewidth": 0,
              "ticks": ""
             }
            },
            "type": "parcoords"
           }
          ],
          "pie": [
           {
            "automargin": true,
            "type": "pie"
           }
          ],
          "scatter": [
           {
            "fillpattern": {
             "fillmode": "overlay",
             "size": 10,
             "solidity": 0.2
            },
            "type": "scatter"
           }
          ],
          "scatter3d": [
           {
            "line": {
             "colorbar": {
              "outlinewidth": 0,
              "ticks": ""
             }
            },
            "marker": {
             "colorbar": {
              "outlinewidth": 0,
              "ticks": ""
             }
            },
            "type": "scatter3d"
           }
          ],
          "scattercarpet": [
           {
            "marker": {
             "colorbar": {
              "outlinewidth": 0,
              "ticks": ""
             }
            },
            "type": "scattercarpet"
           }
          ],
          "scattergeo": [
           {
            "marker": {
             "colorbar": {
              "outlinewidth": 0,
              "ticks": ""
             }
            },
            "type": "scattergeo"
           }
          ],
          "scattergl": [
           {
            "marker": {
             "colorbar": {
              "outlinewidth": 0,
              "ticks": ""
             }
            },
            "type": "scattergl"
           }
          ],
          "scattermapbox": [
           {
            "marker": {
             "colorbar": {
              "outlinewidth": 0,
              "ticks": ""
             }
            },
            "type": "scattermapbox"
           }
          ],
          "scatterpolar": [
           {
            "marker": {
             "colorbar": {
              "outlinewidth": 0,
              "ticks": ""
             }
            },
            "type": "scatterpolar"
           }
          ],
          "scatterpolargl": [
           {
            "marker": {
             "colorbar": {
              "outlinewidth": 0,
              "ticks": ""
             }
            },
            "type": "scatterpolargl"
           }
          ],
          "scatterternary": [
           {
            "marker": {
             "colorbar": {
              "outlinewidth": 0,
              "ticks": ""
             }
            },
            "type": "scatterternary"
           }
          ],
          "surface": [
           {
            "colorbar": {
             "outlinewidth": 0,
             "ticks": ""
            },
            "colorscale": [
             [
              0,
              "#0d0887"
             ],
             [
              0.1111111111111111,
              "#46039f"
             ],
             [
              0.2222222222222222,
              "#7201a8"
             ],
             [
              0.3333333333333333,
              "#9c179e"
             ],
             [
              0.4444444444444444,
              "#bd3786"
             ],
             [
              0.5555555555555556,
              "#d8576b"
             ],
             [
              0.6666666666666666,
              "#ed7953"
             ],
             [
              0.7777777777777778,
              "#fb9f3a"
             ],
             [
              0.8888888888888888,
              "#fdca26"
             ],
             [
              1,
              "#f0f921"
             ]
            ],
            "type": "surface"
           }
          ],
          "table": [
           {
            "cells": {
             "fill": {
              "color": "#EBF0F8"
             },
             "line": {
              "color": "white"
             }
            },
            "header": {
             "fill": {
              "color": "#C8D4E3"
             },
             "line": {
              "color": "white"
             }
            },
            "type": "table"
           }
          ]
         },
         "layout": {
          "annotationdefaults": {
           "arrowcolor": "#2a3f5f",
           "arrowhead": 0,
           "arrowwidth": 1
          },
          "autotypenumbers": "strict",
          "coloraxis": {
           "colorbar": {
            "outlinewidth": 0,
            "ticks": ""
           }
          },
          "colorscale": {
           "diverging": [
            [
             0,
             "#8e0152"
            ],
            [
             0.1,
             "#c51b7d"
            ],
            [
             0.2,
             "#de77ae"
            ],
            [
             0.3,
             "#f1b6da"
            ],
            [
             0.4,
             "#fde0ef"
            ],
            [
             0.5,
             "#f7f7f7"
            ],
            [
             0.6,
             "#e6f5d0"
            ],
            [
             0.7,
             "#b8e186"
            ],
            [
             0.8,
             "#7fbc41"
            ],
            [
             0.9,
             "#4d9221"
            ],
            [
             1,
             "#276419"
            ]
           ],
           "sequential": [
            [
             0,
             "#0d0887"
            ],
            [
             0.1111111111111111,
             "#46039f"
            ],
            [
             0.2222222222222222,
             "#7201a8"
            ],
            [
             0.3333333333333333,
             "#9c179e"
            ],
            [
             0.4444444444444444,
             "#bd3786"
            ],
            [
             0.5555555555555556,
             "#d8576b"
            ],
            [
             0.6666666666666666,
             "#ed7953"
            ],
            [
             0.7777777777777778,
             "#fb9f3a"
            ],
            [
             0.8888888888888888,
             "#fdca26"
            ],
            [
             1,
             "#f0f921"
            ]
           ],
           "sequentialminus": [
            [
             0,
             "#0d0887"
            ],
            [
             0.1111111111111111,
             "#46039f"
            ],
            [
             0.2222222222222222,
             "#7201a8"
            ],
            [
             0.3333333333333333,
             "#9c179e"
            ],
            [
             0.4444444444444444,
             "#bd3786"
            ],
            [
             0.5555555555555556,
             "#d8576b"
            ],
            [
             0.6666666666666666,
             "#ed7953"
            ],
            [
             0.7777777777777778,
             "#fb9f3a"
            ],
            [
             0.8888888888888888,
             "#fdca26"
            ],
            [
             1,
             "#f0f921"
            ]
           ]
          },
          "colorway": [
           "#636efa",
           "#EF553B",
           "#00cc96",
           "#ab63fa",
           "#FFA15A",
           "#19d3f3",
           "#FF6692",
           "#B6E880",
           "#FF97FF",
           "#FECB52"
          ],
          "font": {
           "color": "#2a3f5f"
          },
          "geo": {
           "bgcolor": "white",
           "lakecolor": "white",
           "landcolor": "#E5ECF6",
           "showlakes": true,
           "showland": true,
           "subunitcolor": "white"
          },
          "hoverlabel": {
           "align": "left"
          },
          "hovermode": "closest",
          "mapbox": {
           "style": "light"
          },
          "paper_bgcolor": "white",
          "plot_bgcolor": "#E5ECF6",
          "polar": {
           "angularaxis": {
            "gridcolor": "white",
            "linecolor": "white",
            "ticks": ""
           },
           "bgcolor": "#E5ECF6",
           "radialaxis": {
            "gridcolor": "white",
            "linecolor": "white",
            "ticks": ""
           }
          },
          "scene": {
           "xaxis": {
            "backgroundcolor": "#E5ECF6",
            "gridcolor": "white",
            "gridwidth": 2,
            "linecolor": "white",
            "showbackground": true,
            "ticks": "",
            "zerolinecolor": "white"
           },
           "yaxis": {
            "backgroundcolor": "#E5ECF6",
            "gridcolor": "white",
            "gridwidth": 2,
            "linecolor": "white",
            "showbackground": true,
            "ticks": "",
            "zerolinecolor": "white"
           },
           "zaxis": {
            "backgroundcolor": "#E5ECF6",
            "gridcolor": "white",
            "gridwidth": 2,
            "linecolor": "white",
            "showbackground": true,
            "ticks": "",
            "zerolinecolor": "white"
           }
          },
          "shapedefaults": {
           "line": {
            "color": "#2a3f5f"
           }
          },
          "ternary": {
           "aaxis": {
            "gridcolor": "white",
            "linecolor": "white",
            "ticks": ""
           },
           "baxis": {
            "gridcolor": "white",
            "linecolor": "white",
            "ticks": ""
           },
           "bgcolor": "#E5ECF6",
           "caxis": {
            "gridcolor": "white",
            "linecolor": "white",
            "ticks": ""
           }
          },
          "title": {
           "x": 0.05
          },
          "xaxis": {
           "automargin": true,
           "gridcolor": "white",
           "linecolor": "white",
           "ticks": "",
           "title": {
            "standoff": 15
           },
           "zerolinecolor": "white",
           "zerolinewidth": 2
          },
          "yaxis": {
           "automargin": true,
           "gridcolor": "white",
           "linecolor": "white",
           "ticks": "",
           "title": {
            "standoff": 15
           },
           "zerolinecolor": "white",
           "zerolinewidth": 2
          }
         }
        },
        "title": {
         "text": "Relative Percentage of Churn by Tenure"
        },
        "xaxis": {
         "anchor": "y",
         "domain": [
          0,
          1
         ],
         "title": {
          "text": "Tenure (Months)"
         }
        },
        "yaxis": {
         "anchor": "x",
         "domain": [
          0,
          1
         ],
         "title": {
          "text": "Percentage"
         }
        }
       }
      }
     },
     "metadata": {},
     "output_type": "display_data"
    }
   ],
   "source": [
    "percentage_df = df.groupby(['tenure_months', 'churn_label']).size().reset_index(name='count')\n",
    "percentage_df['percentage'] = percentage_df.groupby('tenure_months')['count'].transform(lambda x: x / x.sum() * 100)\n",
    "fig = px.bar(\n",
    "    data_frame=percentage_df,\n",
    "    x='tenure_months',\n",
    "    y='percentage',\n",
    "    color='churn_label',\n",
    "    barmode='group',\n",
    "    title='Relative Percentage of Churn by Tenure',\n",
    "    labels={'tenure_months': 'Tenure (Months)', 'percentage': 'Percentage', 'churn_label': 'Churn Status'},\n",
    "    color_discrete_sequence=px.colors.qualitative.Set1\n",
    ")\n",
    "\n",
    "fig.show()"
   ]
  },
  {
   "cell_type": "code",
   "execution_count": null,
   "metadata": {},
   "outputs": [],
   "source": [
    "# observation above: there is a higher chance of churning when tenure_months is shorter"
   ]
  },
  {
   "cell_type": "code",
   "execution_count": 14,
   "metadata": {},
   "outputs": [
    {
     "name": "stderr",
     "output_type": "stream",
     "text": [
      "C:\\Users\\yang_\\AppData\\Local\\Temp\\ipykernel_24748\\1786357426.py:7: FutureWarning:\n",
      "\n",
      "The default of observed=False is deprecated and will be changed to True in a future version of pandas. Pass observed=False to retain current behavior or observed=True to adopt the future default and silence this warning.\n",
      "\n",
      "C:\\Users\\yang_\\AppData\\Local\\Temp\\ipykernel_24748\\1786357426.py:9: FutureWarning:\n",
      "\n",
      "The default of observed=False is deprecated and will be changed to True in a future version of pandas. Pass observed=False to retain current behavior or observed=True to adopt the future default and silence this warning.\n",
      "\n"
     ]
    },
    {
     "data": {
      "application/vnd.plotly.v1+json": {
       "config": {
        "plotlyServerURL": "https://plot.ly"
       },
       "data": [
        {
         "alignmentgroup": "True",
         "hovertemplate": "Total Monthly Fee=%{x}<br>Percentage=%{y}<br>Churn Status=%{marker.color}<extra></extra>",
         "legendgroup": "",
         "marker": {
          "color": [
           0,
           1,
           0,
           1,
           0,
           1,
           0,
           1,
           0,
           1,
           0,
           1
          ],
          "coloraxis": "coloraxis",
          "pattern": {
           "shape": ""
          }
         },
         "name": "",
         "offsetgroup": "",
         "orientation": "v",
         "showlegend": false,
         "textposition": "auto",
         "type": "bar",
         "x": [
          "0-20",
          "0-20",
          "21-40",
          "21-40",
          "41-60",
          "41-60",
          "61-80",
          "61-80",
          "81-100",
          "81-100",
          "101-120",
          "101-120"
         ],
         "xaxis": "x",
         "y": [
          91.02773246329528,
          8.97226753670473,
          87.09150326797386,
          12.908496732026146,
          74.20560747663552,
          25.794392523364486,
          67.78615490061685,
          32.213845099383136,
          63.08648954211419,
          36.91351045788581,
          71.69603524229075,
          28.30396475770925
         ],
         "yaxis": "y"
        }
       ],
       "layout": {
        "barmode": "group",
        "coloraxis": {
         "colorbar": {
          "title": {
           "text": "Churn Status"
          }
         },
         "colorscale": [
          [
           0,
           "#0d0887"
          ],
          [
           0.1111111111111111,
           "#46039f"
          ],
          [
           0.2222222222222222,
           "#7201a8"
          ],
          [
           0.3333333333333333,
           "#9c179e"
          ],
          [
           0.4444444444444444,
           "#bd3786"
          ],
          [
           0.5555555555555556,
           "#d8576b"
          ],
          [
           0.6666666666666666,
           "#ed7953"
          ],
          [
           0.7777777777777778,
           "#fb9f3a"
          ],
          [
           0.8888888888888888,
           "#fdca26"
          ],
          [
           1,
           "#f0f921"
          ]
         ]
        },
        "legend": {
         "tracegroupgap": 0
        },
        "template": {
         "data": {
          "bar": [
           {
            "error_x": {
             "color": "#2a3f5f"
            },
            "error_y": {
             "color": "#2a3f5f"
            },
            "marker": {
             "line": {
              "color": "#E5ECF6",
              "width": 0.5
             },
             "pattern": {
              "fillmode": "overlay",
              "size": 10,
              "solidity": 0.2
             }
            },
            "type": "bar"
           }
          ],
          "barpolar": [
           {
            "marker": {
             "line": {
              "color": "#E5ECF6",
              "width": 0.5
             },
             "pattern": {
              "fillmode": "overlay",
              "size": 10,
              "solidity": 0.2
             }
            },
            "type": "barpolar"
           }
          ],
          "carpet": [
           {
            "aaxis": {
             "endlinecolor": "#2a3f5f",
             "gridcolor": "white",
             "linecolor": "white",
             "minorgridcolor": "white",
             "startlinecolor": "#2a3f5f"
            },
            "baxis": {
             "endlinecolor": "#2a3f5f",
             "gridcolor": "white",
             "linecolor": "white",
             "minorgridcolor": "white",
             "startlinecolor": "#2a3f5f"
            },
            "type": "carpet"
           }
          ],
          "choropleth": [
           {
            "colorbar": {
             "outlinewidth": 0,
             "ticks": ""
            },
            "type": "choropleth"
           }
          ],
          "contour": [
           {
            "colorbar": {
             "outlinewidth": 0,
             "ticks": ""
            },
            "colorscale": [
             [
              0,
              "#0d0887"
             ],
             [
              0.1111111111111111,
              "#46039f"
             ],
             [
              0.2222222222222222,
              "#7201a8"
             ],
             [
              0.3333333333333333,
              "#9c179e"
             ],
             [
              0.4444444444444444,
              "#bd3786"
             ],
             [
              0.5555555555555556,
              "#d8576b"
             ],
             [
              0.6666666666666666,
              "#ed7953"
             ],
             [
              0.7777777777777778,
              "#fb9f3a"
             ],
             [
              0.8888888888888888,
              "#fdca26"
             ],
             [
              1,
              "#f0f921"
             ]
            ],
            "type": "contour"
           }
          ],
          "contourcarpet": [
           {
            "colorbar": {
             "outlinewidth": 0,
             "ticks": ""
            },
            "type": "contourcarpet"
           }
          ],
          "heatmap": [
           {
            "colorbar": {
             "outlinewidth": 0,
             "ticks": ""
            },
            "colorscale": [
             [
              0,
              "#0d0887"
             ],
             [
              0.1111111111111111,
              "#46039f"
             ],
             [
              0.2222222222222222,
              "#7201a8"
             ],
             [
              0.3333333333333333,
              "#9c179e"
             ],
             [
              0.4444444444444444,
              "#bd3786"
             ],
             [
              0.5555555555555556,
              "#d8576b"
             ],
             [
              0.6666666666666666,
              "#ed7953"
             ],
             [
              0.7777777777777778,
              "#fb9f3a"
             ],
             [
              0.8888888888888888,
              "#fdca26"
             ],
             [
              1,
              "#f0f921"
             ]
            ],
            "type": "heatmap"
           }
          ],
          "heatmapgl": [
           {
            "colorbar": {
             "outlinewidth": 0,
             "ticks": ""
            },
            "colorscale": [
             [
              0,
              "#0d0887"
             ],
             [
              0.1111111111111111,
              "#46039f"
             ],
             [
              0.2222222222222222,
              "#7201a8"
             ],
             [
              0.3333333333333333,
              "#9c179e"
             ],
             [
              0.4444444444444444,
              "#bd3786"
             ],
             [
              0.5555555555555556,
              "#d8576b"
             ],
             [
              0.6666666666666666,
              "#ed7953"
             ],
             [
              0.7777777777777778,
              "#fb9f3a"
             ],
             [
              0.8888888888888888,
              "#fdca26"
             ],
             [
              1,
              "#f0f921"
             ]
            ],
            "type": "heatmapgl"
           }
          ],
          "histogram": [
           {
            "marker": {
             "pattern": {
              "fillmode": "overlay",
              "size": 10,
              "solidity": 0.2
             }
            },
            "type": "histogram"
           }
          ],
          "histogram2d": [
           {
            "colorbar": {
             "outlinewidth": 0,
             "ticks": ""
            },
            "colorscale": [
             [
              0,
              "#0d0887"
             ],
             [
              0.1111111111111111,
              "#46039f"
             ],
             [
              0.2222222222222222,
              "#7201a8"
             ],
             [
              0.3333333333333333,
              "#9c179e"
             ],
             [
              0.4444444444444444,
              "#bd3786"
             ],
             [
              0.5555555555555556,
              "#d8576b"
             ],
             [
              0.6666666666666666,
              "#ed7953"
             ],
             [
              0.7777777777777778,
              "#fb9f3a"
             ],
             [
              0.8888888888888888,
              "#fdca26"
             ],
             [
              1,
              "#f0f921"
             ]
            ],
            "type": "histogram2d"
           }
          ],
          "histogram2dcontour": [
           {
            "colorbar": {
             "outlinewidth": 0,
             "ticks": ""
            },
            "colorscale": [
             [
              0,
              "#0d0887"
             ],
             [
              0.1111111111111111,
              "#46039f"
             ],
             [
              0.2222222222222222,
              "#7201a8"
             ],
             [
              0.3333333333333333,
              "#9c179e"
             ],
             [
              0.4444444444444444,
              "#bd3786"
             ],
             [
              0.5555555555555556,
              "#d8576b"
             ],
             [
              0.6666666666666666,
              "#ed7953"
             ],
             [
              0.7777777777777778,
              "#fb9f3a"
             ],
             [
              0.8888888888888888,
              "#fdca26"
             ],
             [
              1,
              "#f0f921"
             ]
            ],
            "type": "histogram2dcontour"
           }
          ],
          "mesh3d": [
           {
            "colorbar": {
             "outlinewidth": 0,
             "ticks": ""
            },
            "type": "mesh3d"
           }
          ],
          "parcoords": [
           {
            "line": {
             "colorbar": {
              "outlinewidth": 0,
              "ticks": ""
             }
            },
            "type": "parcoords"
           }
          ],
          "pie": [
           {
            "automargin": true,
            "type": "pie"
           }
          ],
          "scatter": [
           {
            "fillpattern": {
             "fillmode": "overlay",
             "size": 10,
             "solidity": 0.2
            },
            "type": "scatter"
           }
          ],
          "scatter3d": [
           {
            "line": {
             "colorbar": {
              "outlinewidth": 0,
              "ticks": ""
             }
            },
            "marker": {
             "colorbar": {
              "outlinewidth": 0,
              "ticks": ""
             }
            },
            "type": "scatter3d"
           }
          ],
          "scattercarpet": [
           {
            "marker": {
             "colorbar": {
              "outlinewidth": 0,
              "ticks": ""
             }
            },
            "type": "scattercarpet"
           }
          ],
          "scattergeo": [
           {
            "marker": {
             "colorbar": {
              "outlinewidth": 0,
              "ticks": ""
             }
            },
            "type": "scattergeo"
           }
          ],
          "scattergl": [
           {
            "marker": {
             "colorbar": {
              "outlinewidth": 0,
              "ticks": ""
             }
            },
            "type": "scattergl"
           }
          ],
          "scattermapbox": [
           {
            "marker": {
             "colorbar": {
              "outlinewidth": 0,
              "ticks": ""
             }
            },
            "type": "scattermapbox"
           }
          ],
          "scatterpolar": [
           {
            "marker": {
             "colorbar": {
              "outlinewidth": 0,
              "ticks": ""
             }
            },
            "type": "scatterpolar"
           }
          ],
          "scatterpolargl": [
           {
            "marker": {
             "colorbar": {
              "outlinewidth": 0,
              "ticks": ""
             }
            },
            "type": "scatterpolargl"
           }
          ],
          "scatterternary": [
           {
            "marker": {
             "colorbar": {
              "outlinewidth": 0,
              "ticks": ""
             }
            },
            "type": "scatterternary"
           }
          ],
          "surface": [
           {
            "colorbar": {
             "outlinewidth": 0,
             "ticks": ""
            },
            "colorscale": [
             [
              0,
              "#0d0887"
             ],
             [
              0.1111111111111111,
              "#46039f"
             ],
             [
              0.2222222222222222,
              "#7201a8"
             ],
             [
              0.3333333333333333,
              "#9c179e"
             ],
             [
              0.4444444444444444,
              "#bd3786"
             ],
             [
              0.5555555555555556,
              "#d8576b"
             ],
             [
              0.6666666666666666,
              "#ed7953"
             ],
             [
              0.7777777777777778,
              "#fb9f3a"
             ],
             [
              0.8888888888888888,
              "#fdca26"
             ],
             [
              1,
              "#f0f921"
             ]
            ],
            "type": "surface"
           }
          ],
          "table": [
           {
            "cells": {
             "fill": {
              "color": "#EBF0F8"
             },
             "line": {
              "color": "white"
             }
            },
            "header": {
             "fill": {
              "color": "#C8D4E3"
             },
             "line": {
              "color": "white"
             }
            },
            "type": "table"
           }
          ]
         },
         "layout": {
          "annotationdefaults": {
           "arrowcolor": "#2a3f5f",
           "arrowhead": 0,
           "arrowwidth": 1
          },
          "autotypenumbers": "strict",
          "coloraxis": {
           "colorbar": {
            "outlinewidth": 0,
            "ticks": ""
           }
          },
          "colorscale": {
           "diverging": [
            [
             0,
             "#8e0152"
            ],
            [
             0.1,
             "#c51b7d"
            ],
            [
             0.2,
             "#de77ae"
            ],
            [
             0.3,
             "#f1b6da"
            ],
            [
             0.4,
             "#fde0ef"
            ],
            [
             0.5,
             "#f7f7f7"
            ],
            [
             0.6,
             "#e6f5d0"
            ],
            [
             0.7,
             "#b8e186"
            ],
            [
             0.8,
             "#7fbc41"
            ],
            [
             0.9,
             "#4d9221"
            ],
            [
             1,
             "#276419"
            ]
           ],
           "sequential": [
            [
             0,
             "#0d0887"
            ],
            [
             0.1111111111111111,
             "#46039f"
            ],
            [
             0.2222222222222222,
             "#7201a8"
            ],
            [
             0.3333333333333333,
             "#9c179e"
            ],
            [
             0.4444444444444444,
             "#bd3786"
            ],
            [
             0.5555555555555556,
             "#d8576b"
            ],
            [
             0.6666666666666666,
             "#ed7953"
            ],
            [
             0.7777777777777778,
             "#fb9f3a"
            ],
            [
             0.8888888888888888,
             "#fdca26"
            ],
            [
             1,
             "#f0f921"
            ]
           ],
           "sequentialminus": [
            [
             0,
             "#0d0887"
            ],
            [
             0.1111111111111111,
             "#46039f"
            ],
            [
             0.2222222222222222,
             "#7201a8"
            ],
            [
             0.3333333333333333,
             "#9c179e"
            ],
            [
             0.4444444444444444,
             "#bd3786"
            ],
            [
             0.5555555555555556,
             "#d8576b"
            ],
            [
             0.6666666666666666,
             "#ed7953"
            ],
            [
             0.7777777777777778,
             "#fb9f3a"
            ],
            [
             0.8888888888888888,
             "#fdca26"
            ],
            [
             1,
             "#f0f921"
            ]
           ]
          },
          "colorway": [
           "#636efa",
           "#EF553B",
           "#00cc96",
           "#ab63fa",
           "#FFA15A",
           "#19d3f3",
           "#FF6692",
           "#B6E880",
           "#FF97FF",
           "#FECB52"
          ],
          "font": {
           "color": "#2a3f5f"
          },
          "geo": {
           "bgcolor": "white",
           "lakecolor": "white",
           "landcolor": "#E5ECF6",
           "showlakes": true,
           "showland": true,
           "subunitcolor": "white"
          },
          "hoverlabel": {
           "align": "left"
          },
          "hovermode": "closest",
          "mapbox": {
           "style": "light"
          },
          "paper_bgcolor": "white",
          "plot_bgcolor": "#E5ECF6",
          "polar": {
           "angularaxis": {
            "gridcolor": "white",
            "linecolor": "white",
            "ticks": ""
           },
           "bgcolor": "#E5ECF6",
           "radialaxis": {
            "gridcolor": "white",
            "linecolor": "white",
            "ticks": ""
           }
          },
          "scene": {
           "xaxis": {
            "backgroundcolor": "#E5ECF6",
            "gridcolor": "white",
            "gridwidth": 2,
            "linecolor": "white",
            "showbackground": true,
            "ticks": "",
            "zerolinecolor": "white"
           },
           "yaxis": {
            "backgroundcolor": "#E5ECF6",
            "gridcolor": "white",
            "gridwidth": 2,
            "linecolor": "white",
            "showbackground": true,
            "ticks": "",
            "zerolinecolor": "white"
           },
           "zaxis": {
            "backgroundcolor": "#E5ECF6",
            "gridcolor": "white",
            "gridwidth": 2,
            "linecolor": "white",
            "showbackground": true,
            "ticks": "",
            "zerolinecolor": "white"
           }
          },
          "shapedefaults": {
           "line": {
            "color": "#2a3f5f"
           }
          },
          "ternary": {
           "aaxis": {
            "gridcolor": "white",
            "linecolor": "white",
            "ticks": ""
           },
           "baxis": {
            "gridcolor": "white",
            "linecolor": "white",
            "ticks": ""
           },
           "bgcolor": "#E5ECF6",
           "caxis": {
            "gridcolor": "white",
            "linecolor": "white",
            "ticks": ""
           }
          },
          "title": {
           "x": 0.05
          },
          "xaxis": {
           "automargin": true,
           "gridcolor": "white",
           "linecolor": "white",
           "ticks": "",
           "title": {
            "standoff": 15
           },
           "zerolinecolor": "white",
           "zerolinewidth": 2
          },
          "yaxis": {
           "automargin": true,
           "gridcolor": "white",
           "linecolor": "white",
           "ticks": "",
           "title": {
            "standoff": 15
           },
           "zerolinecolor": "white",
           "zerolinewidth": 2
          }
         }
        },
        "title": {
         "text": "Relative Percentage of Churn by Total Monthly Fee"
        },
        "xaxis": {
         "anchor": "y",
         "domain": [
          0,
          1
         ],
         "title": {
          "text": "Total Monthly Fee"
         }
        },
        "yaxis": {
         "anchor": "x",
         "domain": [
          0,
          1
         ],
         "title": {
          "text": "Percentage"
         }
        }
       }
      }
     },
     "metadata": {},
     "output_type": "display_data"
    }
   ],
   "source": [
    "bins = [0, 20, 40, 60, 80, 100, 120]\n",
    "labels = ['0-20', '21-40', '41-60', '61-80', '81-100', '101-120']\n",
    "\n",
    "tempdf = df.copy()\n",
    "tempdf['fee_bins'] = pd.cut(tempdf['total_monthly_fee'], bins=bins, labels=labels, right=False)\n",
    "\n",
    "percentage_df = tempdf.groupby(['fee_bins', 'churn_label']).size().reset_index(name='count')\n",
    "\n",
    "percentage_df['percentage'] = percentage_df.groupby('fee_bins')['count'].transform(lambda x: x / x.sum() * 100)\n",
    "\n",
    "fig = px.bar(\n",
    "    data_frame=percentage_df,\n",
    "    x='fee_bins',\n",
    "    y='percentage',\n",
    "    color='churn_label',\n",
    "    barmode='group',\n",
    "    title='Relative Percentage of Churn by Total Monthly Fee',\n",
    "    labels={'fee_bins': 'Total Monthly Fee', 'percentage': 'Percentage', 'churn_label': 'Churn Status'},\n",
    "    color_discrete_sequence=px.colors.qualitative.Set1\n",
    ")\n",
    "\n",
    "fig.show()"
   ]
  },
  {
   "cell_type": "code",
   "execution_count": null,
   "metadata": {},
   "outputs": [],
   "source": [
    "# observation above: there is relatively higher chance of churning when total monthly fee is higher"
   ]
  },
  {
   "cell_type": "markdown",
   "metadata": {},
   "source": [
    "5. feature selection, train test split and label encoding"
   ]
  },
  {
   "cell_type": "code",
   "execution_count": 15,
   "metadata": {},
   "outputs": [],
   "source": [
    "X = df.drop(columns=['status','churn_label','churn_category','churn_reason'])\n",
    "y = df['churn_label']\n",
    "\n",
    "feature_selection = ['tenure_months','total_monthly_fee',\n",
    "                     'has_internet_service',\n",
    "                     'contract_type', \n",
    "                     'num_referrals',\n",
    "                     'num_dependents',\n",
    "                     'married',\n",
    "                     'has_online_security',\n",
    "                     'stream_movie',\n",
    "                     'stream_music',\n",
    "                     'age',\n",
    "]\n",
    "X = X[feature_selection]\n",
    "\n",
    "X_train, X_test, y_train, y_test = train_test_split(X, y, test_size=0.2, random_state=42)\n",
    "\n",
    "encode_feat = list(X_train.select_dtypes(include=['object']).columns)\n",
    "\n",
    "label_encoders = {}\n",
    "\n",
    "X_train_encoded = X_train.copy()\n",
    "for col in encode_feat:\n",
    "    le = LabelEncoder()\n",
    "    X_train_encoded[col] = le.fit_transform(X_train_encoded[col])\n",
    "    label_encoders[col] = le\n",
    "\n",
    "X_test_encoded = X_test.copy()\n",
    "for col in encode_feat:\n",
    "    X_test_encoded[col] = label_encoders[col].transform(X_test_encoded[col])"
   ]
  },
  {
   "cell_type": "code",
   "execution_count": 16,
   "metadata": {},
   "outputs": [
    {
     "data": {
      "text/plain": [
       "['has_internet_service',\n",
       " 'contract_type',\n",
       " 'married',\n",
       " 'has_online_security',\n",
       " 'stream_movie',\n",
       " 'stream_music']"
      ]
     },
     "execution_count": 16,
     "metadata": {},
     "output_type": "execute_result"
    }
   ],
   "source": [
    "encode_feat"
   ]
  },
  {
   "cell_type": "code",
   "execution_count": 17,
   "metadata": {},
   "outputs": [
    {
     "data": {
      "text/plain": [
       "has_internet_service\n",
       "Yes    4410\n",
       "No     1224\n",
       "Name: count, dtype: int64"
      ]
     },
     "execution_count": 17,
     "metadata": {},
     "output_type": "execute_result"
    }
   ],
   "source": [
    "X_train['has_internet_service'].value_counts()"
   ]
  },
  {
   "cell_type": "code",
   "execution_count": 18,
   "metadata": {},
   "outputs": [
    {
     "data": {
      "text/plain": [
       "has_internet_service\n",
       "1    4410\n",
       "0    1224\n",
       "Name: count, dtype: int64"
      ]
     },
     "execution_count": 18,
     "metadata": {},
     "output_type": "execute_result"
    }
   ],
   "source": [
    "X_train_encoded['has_internet_service'].value_counts()"
   ]
  },
  {
   "cell_type": "code",
   "execution_count": 19,
   "metadata": {},
   "outputs": [
    {
     "data": {
      "text/plain": [
       "has_internet_service\n",
       "Yes    1107\n",
       "No      302\n",
       "Name: count, dtype: int64"
      ]
     },
     "execution_count": 19,
     "metadata": {},
     "output_type": "execute_result"
    }
   ],
   "source": [
    "X_test['has_internet_service'].value_counts()"
   ]
  },
  {
   "cell_type": "code",
   "execution_count": 20,
   "metadata": {},
   "outputs": [
    {
     "data": {
      "text/plain": [
       "has_internet_service\n",
       "1    1107\n",
       "0     302\n",
       "Name: count, dtype: int64"
      ]
     },
     "execution_count": 20,
     "metadata": {},
     "output_type": "execute_result"
    }
   ],
   "source": [
    "X_test_encoded['has_internet_service'].value_counts()"
   ]
  },
  {
   "cell_type": "code",
   "execution_count": 21,
   "metadata": {},
   "outputs": [
    {
     "data": {
      "text/plain": [
       "contract_type\n",
       "Month-to-Month    2896\n",
       "Two Year          1491\n",
       "One Year          1247\n",
       "Name: count, dtype: int64"
      ]
     },
     "execution_count": 21,
     "metadata": {},
     "output_type": "execute_result"
    }
   ],
   "source": [
    "X_train['contract_type'].value_counts()"
   ]
  },
  {
   "cell_type": "code",
   "execution_count": 22,
   "metadata": {},
   "outputs": [
    {
     "data": {
      "text/plain": [
       "contract_type\n",
       "0    2896\n",
       "2    1491\n",
       "1    1247\n",
       "Name: count, dtype: int64"
      ]
     },
     "execution_count": 22,
     "metadata": {},
     "output_type": "execute_result"
    }
   ],
   "source": [
    "X_train_encoded['contract_type'].value_counts()"
   ]
  },
  {
   "cell_type": "code",
   "execution_count": 23,
   "metadata": {},
   "outputs": [
    {
     "data": {
      "text/plain": [
       "contract_type\n",
       "Month-to-Month    714\n",
       "Two Year          392\n",
       "One Year          303\n",
       "Name: count, dtype: int64"
      ]
     },
     "execution_count": 23,
     "metadata": {},
     "output_type": "execute_result"
    }
   ],
   "source": [
    "X_test['contract_type'].value_counts()"
   ]
  },
  {
   "cell_type": "code",
   "execution_count": 24,
   "metadata": {},
   "outputs": [
    {
     "data": {
      "text/plain": [
       "contract_type\n",
       "0    714\n",
       "2    392\n",
       "1    303\n",
       "Name: count, dtype: int64"
      ]
     },
     "execution_count": 24,
     "metadata": {},
     "output_type": "execute_result"
    }
   ],
   "source": [
    "X_test_encoded['contract_type'].value_counts()"
   ]
  },
  {
   "cell_type": "code",
   "execution_count": 24,
   "metadata": {},
   "outputs": [
    {
     "data": {
      "text/plain": [
       "array(['Yes', 'No'], dtype=object)"
      ]
     },
     "execution_count": 24,
     "metadata": {},
     "output_type": "execute_result"
    }
   ],
   "source": [
    "X['married'].unique()"
   ]
  },
  {
   "cell_type": "code",
   "execution_count": 25,
   "metadata": {},
   "outputs": [
    {
     "data": {
      "text/plain": [
       "array(['Yes', 'No'], dtype=object)"
      ]
     },
     "execution_count": 25,
     "metadata": {},
     "output_type": "execute_result"
    }
   ],
   "source": [
    "X['has_online_security'].unique()"
   ]
  },
  {
   "cell_type": "code",
   "execution_count": 26,
   "metadata": {},
   "outputs": [
    {
     "data": {
      "text/plain": [
       "array(['No', 'Yes'], dtype=object)"
      ]
     },
     "execution_count": 26,
     "metadata": {},
     "output_type": "execute_result"
    }
   ],
   "source": [
    "X['stream_movie'].unique()"
   ]
  },
  {
   "cell_type": "code",
   "execution_count": 27,
   "metadata": {},
   "outputs": [
    {
     "data": {
      "text/plain": [
       "array(['No', 'Yes'], dtype=object)"
      ]
     },
     "execution_count": 27,
     "metadata": {},
     "output_type": "execute_result"
    }
   ],
   "source": [
    "X['stream_music'].unique()"
   ]
  },
  {
   "cell_type": "code",
   "execution_count": 28,
   "metadata": {},
   "outputs": [],
   "source": [
    "with open('label_encoders.pkl', 'wb') as f:\n",
    "    pickle.dump(label_encoders, f)"
   ]
  },
  {
   "cell_type": "markdown",
   "metadata": {},
   "source": [
    "6. training models and hyperparameter tuning"
   ]
  },
  {
   "cell_type": "code",
   "execution_count": 29,
   "metadata": {},
   "outputs": [
    {
     "name": "stdout",
     "output_type": "stream",
     "text": [
      "Accuracy: 0.84\n",
      "AUC score: 0.90\n"
     ]
    }
   ],
   "source": [
    "xgbc_model = XGBClassifier(\n",
    "             objective='binary:logistic',  \n",
    "             eval_metric='auc',\n",
    "             tree_method='hist',        \n",
    "             enable_categorical=True       \n",
    ")\n",
    "\n",
    "xgbc_model.fit(X_train_encoded, y_train)\n",
    "\n",
    "xgbc_y_pred = xgbc_model.predict(X_test_encoded)\n",
    "\n",
    "xgbc_y_pred_proba = xgbc_model.predict_proba(X_test_encoded)[:, 1]\n",
    "\n",
    "xgbc_accuracy = accuracy_score(y_test, xgbc_y_pred)\n",
    "xgbc_auc_score = roc_auc_score(y_test, xgbc_y_pred_proba)\n",
    "\n",
    "print(f\"Accuracy: {xgbc_accuracy:.2f}\")\n",
    "print(f\"AUC score: {xgbc_auc_score:.2f}\")\n"
   ]
  },
  {
   "cell_type": "code",
   "execution_count": 30,
   "metadata": {},
   "outputs": [
    {
     "data": {
      "text/html": [
       "<div>\n",
       "<style scoped>\n",
       "    .dataframe tbody tr th:only-of-type {\n",
       "        vertical-align: middle;\n",
       "    }\n",
       "\n",
       "    .dataframe tbody tr th {\n",
       "        vertical-align: top;\n",
       "    }\n",
       "\n",
       "    .dataframe thead th {\n",
       "        text-align: right;\n",
       "    }\n",
       "</style>\n",
       "<table border=\"1\" class=\"dataframe\">\n",
       "  <thead>\n",
       "    <tr style=\"text-align: right;\">\n",
       "      <th></th>\n",
       "      <th>feature</th>\n",
       "      <th>importance</th>\n",
       "    </tr>\n",
       "  </thead>\n",
       "  <tbody>\n",
       "    <tr>\n",
       "      <th>3</th>\n",
       "      <td>contract_type</td>\n",
       "      <td>0.460905</td>\n",
       "    </tr>\n",
       "    <tr>\n",
       "      <th>2</th>\n",
       "      <td>has_internet_service</td>\n",
       "      <td>0.146663</td>\n",
       "    </tr>\n",
       "    <tr>\n",
       "      <th>4</th>\n",
       "      <td>num_referrals</td>\n",
       "      <td>0.089523</td>\n",
       "    </tr>\n",
       "    <tr>\n",
       "      <th>5</th>\n",
       "      <td>num_dependents</td>\n",
       "      <td>0.073480</td>\n",
       "    </tr>\n",
       "    <tr>\n",
       "      <th>9</th>\n",
       "      <td>stream_music</td>\n",
       "      <td>0.043572</td>\n",
       "    </tr>\n",
       "    <tr>\n",
       "      <th>6</th>\n",
       "      <td>married</td>\n",
       "      <td>0.041281</td>\n",
       "    </tr>\n",
       "    <tr>\n",
       "      <th>7</th>\n",
       "      <td>has_online_security</td>\n",
       "      <td>0.034902</td>\n",
       "    </tr>\n",
       "    <tr>\n",
       "      <th>8</th>\n",
       "      <td>stream_movie</td>\n",
       "      <td>0.031738</td>\n",
       "    </tr>\n",
       "    <tr>\n",
       "      <th>10</th>\n",
       "      <td>age</td>\n",
       "      <td>0.027389</td>\n",
       "    </tr>\n",
       "    <tr>\n",
       "      <th>0</th>\n",
       "      <td>tenure_months</td>\n",
       "      <td>0.025675</td>\n",
       "    </tr>\n",
       "    <tr>\n",
       "      <th>1</th>\n",
       "      <td>total_monthly_fee</td>\n",
       "      <td>0.024872</td>\n",
       "    </tr>\n",
       "  </tbody>\n",
       "</table>\n",
       "</div>"
      ],
      "text/plain": [
       "                 feature  importance\n",
       "3          contract_type    0.460905\n",
       "2   has_internet_service    0.146663\n",
       "4          num_referrals    0.089523\n",
       "5         num_dependents    0.073480\n",
       "9           stream_music    0.043572\n",
       "6                married    0.041281\n",
       "7    has_online_security    0.034902\n",
       "8           stream_movie    0.031738\n",
       "10                   age    0.027389\n",
       "0          tenure_months    0.025675\n",
       "1      total_monthly_fee    0.024872"
      ]
     },
     "execution_count": 30,
     "metadata": {},
     "output_type": "execute_result"
    }
   ],
   "source": [
    "feature_names = X_train_encoded.columns\n",
    "\n",
    "importances = xgbc_model.feature_importances_\n",
    "\n",
    "feature_importances_df = pd.DataFrame({\n",
    "    'feature': feature_names,\n",
    "    'importance': importances\n",
    "})\n",
    "\n",
    "feature_importances_df = feature_importances_df.sort_values(by='importance', ascending=False)\n",
    "feature_importances_df"
   ]
  },
  {
   "cell_type": "code",
   "execution_count": 31,
   "metadata": {},
   "outputs": [
    {
     "data": {
      "text/plain": [
       "['contract_type',\n",
       " 'has_internet_service',\n",
       " 'num_referrals',\n",
       " 'num_dependents',\n",
       " 'stream_music',\n",
       " 'married',\n",
       " 'has_online_security',\n",
       " 'stream_movie',\n",
       " 'age',\n",
       " 'tenure_months',\n",
       " 'total_monthly_fee']"
      ]
     },
     "execution_count": 31,
     "metadata": {},
     "output_type": "execute_result"
    }
   ],
   "source": [
    "list(feature_importances_df['feature'])"
   ]
  },
  {
   "cell_type": "code",
   "execution_count": 32,
   "metadata": {},
   "outputs": [
    {
     "name": "stdout",
     "output_type": "stream",
     "text": [
      "0:\ttotal: 224ms\tremaining: 3m 43s\n",
      "100:\ttotal: 4.39s\tremaining: 39.1s\n",
      "200:\ttotal: 9.1s\tremaining: 36.2s\n",
      "300:\ttotal: 12.3s\tremaining: 28.6s\n",
      "400:\ttotal: 16.7s\tremaining: 24.9s\n",
      "500:\ttotal: 20.8s\tremaining: 20.7s\n",
      "600:\ttotal: 24.6s\tremaining: 16.3s\n",
      "700:\ttotal: 27.9s\tremaining: 11.9s\n",
      "800:\ttotal: 32.5s\tremaining: 8.09s\n",
      "900:\ttotal: 36.1s\tremaining: 3.97s\n",
      "999:\ttotal: 39.9s\tremaining: 0us\n",
      "Accuracy: 0.83\n",
      "AUC score: 0.81\n"
     ]
    }
   ],
   "source": [
    "cbc_model = CatBoostClassifier(\n",
    "            iterations=1000,              \n",
    "            learning_rate=0.1,            \n",
    "            depth=6,                      \n",
    "            loss_function='Logloss',      \n",
    "            eval_metric='AUC',            \n",
    "            cat_features=encode_feat, \n",
    "            verbose=100                   \n",
    ")\n",
    "\n",
    "cbc_model.fit(X_train, y_train)\n",
    "\n",
    "cbc_y_pred = cbc_model.predict(X_test)\n",
    "\n",
    "cbc_y_pred_proba = cbc_model.predict_proba(X_test_encoded)[:, 1]\n",
    "\n",
    "cbc_accuracy = accuracy_score(y_test, cbc_y_pred)\n",
    "cbc_auc_score = roc_auc_score(y_test, cbc_y_pred_proba)\n",
    "\n",
    "print(f\"Accuracy: {cbc_accuracy:.2f}\")\n",
    "print(f\"AUC score: {cbc_auc_score:.2f}\")\n"
   ]
  },
  {
   "cell_type": "code",
   "execution_count": 33,
   "metadata": {},
   "outputs": [
    {
     "name": "stdout",
     "output_type": "stream",
     "text": [
      "Fitting 3 folds for each of 81 candidates, totalling 243 fits\n",
      "Best Hyperparameters:\n",
      "{'colsample_bytree': 0.5, 'gamma': 0.9, 'max_depth': 3, 'reg_alpha': 0.9}\n"
     ]
    }
   ],
   "source": [
    "param_grid = {\n",
    "    'max_depth': [3, 5, 7],\n",
    "    # 'learning_rate': [0.3, 0.2, 0.1],\n",
    "    # 'subsample': [0.5, 0.6, 0.7],\n",
    "    'reg_alpha': [0.5, 0.7, 0.9],\n",
    "    # 'reg_lambda': [0.5, 0.7, 0.9],\n",
    "    'colsample_bytree': [0.5, 0.7, 0.9],\n",
    "    'gamma': [0, 0.1, 0.9]\n",
    "}\n",
    "\n",
    "grid_search = GridSearchCV(xgbc_model, param_grid, cv=3, scoring='roc_auc', verbose=1)\n",
    "\n",
    "grid_search.fit(X_train_encoded, y_train)\n",
    "\n",
    "best_params = grid_search.best_params_\n",
    "print(\"Best Hyperparameters:\")\n",
    "print(best_params)"
   ]
  },
  {
   "cell_type": "code",
   "execution_count": 34,
   "metadata": {},
   "outputs": [
    {
     "name": "stdout",
     "output_type": "stream",
     "text": [
      "Accuracy: 0.85\n",
      "AUC score: 0.92\n"
     ]
    }
   ],
   "source": [
    "best_model = grid_search.best_estimator_\n",
    "\n",
    "y_pred = best_model.predict(X_test_encoded)\n",
    "y_pred_proba = best_model.predict_proba(X_test_encoded)[:, 1]\n",
    "\n",
    "accuracy = accuracy_score(y_test, y_pred)\n",
    "auc_score = roc_auc_score(y_test, y_pred_proba)\n",
    "\n",
    "print(f\"Accuracy: {accuracy:.2f}\")\n",
    "print(f\"AUC score: {auc_score:.2f}\")"
   ]
  },
  {
   "cell_type": "markdown",
   "metadata": {},
   "source": [
    "7. saving the selected model as pkl"
   ]
  },
  {
   "cell_type": "code",
   "execution_count": 35,
   "metadata": {},
   "outputs": [
    {
     "name": "stdout",
     "output_type": "stream",
     "text": [
      "Best model saved as 'best_model.pkl'\n"
     ]
    }
   ],
   "source": [
    "with open('best_model.pkl', 'wb') as file:\n",
    "    pickle.dump(best_model, file)\n",
    "\n",
    "print(\"Best model saved as 'best_model.pkl'\")"
   ]
  },
  {
   "cell_type": "code",
   "execution_count": 1,
   "metadata": {},
   "outputs": [
    {
     "name": "stdout",
     "output_type": "stream",
     "text": [
      "Package                   Version\n",
      "------------------------- -----------\n",
      "asttokens                 2.4.1\n",
      "attrs                     23.2.0\n",
      "blinker                   1.6.2\n",
      "Bottleneck                1.3.7\n",
      "catboost                  1.2.3\n",
      "click                     8.1.7\n",
      "colorama                  0.4.6\n",
      "comm                      0.2.2\n",
      "contourpy                 1.2.0\n",
      "cycler                    0.11.0\n",
      "debugpy                   1.6.7\n",
      "decorator                 5.1.1\n",
      "exceptiongroup            1.2.0\n",
      "executing                 2.0.1\n",
      "fastjsonschema            2.20.0\n",
      "Flask                     3.0.3\n",
      "fonttools                 4.51.0\n",
      "graphviz                  0.20.1\n",
      "greenlet                  3.0.1\n",
      "importlib_metadata        7.1.0\n",
      "ipykernel                 6.29.4\n",
      "ipython                   8.25.0\n",
      "itsdangerous              2.2.0\n",
      "jedi                      0.19.1\n",
      "Jinja2                    3.1.4\n",
      "joblib                    1.4.2\n",
      "jsonschema                4.22.0\n",
      "jsonschema-specifications 2023.12.1\n",
      "jupyter_client            8.6.2\n",
      "jupyter_core              5.7.2\n",
      "kiwisolver                1.4.4\n",
      "MarkupSafe                2.1.3\n",
      "matplotlib                3.8.4\n",
      "matplotlib-inline         0.1.7\n",
      "mkl-fft                   1.3.8\n",
      "mkl-random                1.2.4\n",
      "mkl-service               2.4.0\n",
      "nbformat                  5.10.4\n",
      "nest_asyncio              1.6.0\n",
      "numexpr                   2.8.7\n",
      "numpy                     1.26.4\n",
      "packaging                 23.2\n",
      "pandas                    2.2.2\n",
      "parso                     0.8.4\n",
      "pickleshare               0.7.5\n",
      "pillow                    10.3.0\n",
      "pip                       24.0\n",
      "platformdirs              4.2.2\n",
      "plotly                    5.22.0\n",
      "ply                       3.11\n",
      "prompt_toolkit            3.0.47\n",
      "psutil                    5.9.0\n",
      "pure-eval                 0.2.2\n",
      "Pygments                  2.18.0\n",
      "PyMySQL                   1.1.1\n",
      "pyparsing                 3.0.9\n",
      "PyQt5                     5.15.10\n",
      "PyQt5-sip                 12.13.0\n",
      "python-dateutil           2.9.0.post0\n",
      "pytz                      2024.1\n",
      "pywin32                   305.1\n",
      "pyzmq                     25.1.2\n",
      "referencing               0.35.1\n",
      "rpds-py                   0.18.1\n",
      "scikit-learn              1.4.2\n",
      "scipy                     1.13.1\n",
      "setuptools                69.5.1\n",
      "sip                       6.7.12\n",
      "six                       1.16.0\n",
      "SQLAlchemy                2.0.30\n",
      "stack-data                0.6.2\n",
      "tenacity                  8.2.2\n",
      "threadpoolctl             2.2.0\n",
      "tornado                   6.3.3\n",
      "tqdm                      4.66.4\n",
      "traitlets                 5.14.3\n",
      "typing_extensions         4.11.0\n",
      "tzdata                    2023.3\n",
      "unicodedata2              15.1.0\n",
      "wcwidth                   0.2.13\n",
      "Werkzeug                  3.0.3\n",
      "wheel                     0.43.0\n",
      "xgboost                   2.0.3\n",
      "zipp                      3.19.2\n"
     ]
    }
   ],
   "source": [
    "!pip list"
   ]
  }
 ],
 "metadata": {
  "kernelspec": {
   "display_name": "base",
   "language": "python",
   "name": "python3"
  },
  "language_info": {
   "codemirror_mode": {
    "name": "ipython",
    "version": 3
   },
   "file_extension": ".py",
   "mimetype": "text/x-python",
   "name": "python",
   "nbconvert_exporter": "python",
   "pygments_lexer": "ipython3",
   "version": "3.11.9"
  }
 },
 "nbformat": 4,
 "nbformat_minor": 2
}
